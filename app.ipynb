{
 "cells": [
  {
   "cell_type": "markdown",
   "id": "c5c3e399-d813-4a2b-8bfd-6980b899bf00",
   "metadata": {},
   "source": [
    "# Feeling attracted\n",
    "\n",
    "An interactive vizualization for some cool attractors."
   ]
  },
  {
   "cell_type": "markdown",
   "id": "018a6523-c6ad-45cc-8e22-477ce7f40b5a",
   "metadata": {},
   "source": [
    "#### Import some packages"
   ]
  },
  {
   "cell_type": "code",
   "execution_count": 1,
   "id": "84ca8053-1edc-442c-a194-8fc546ce20ef",
   "metadata": {
    "jupyter": {
     "source_hidden": true
    },
    "tags": []
   },
   "outputs": [],
   "source": [
    "import numpy as np\n",
    "from ipywidgets import (\n",
    "    Dropdown, \n",
    "    IntSlider, \n",
    "    FloatSlider, \n",
    "    VBox, \n",
    "    AppLayout, \n",
    "    HTMLMath, \n",
    "    interactive_output\n",
    ")\n",
    "import bqplot.pyplot as plt\n",
    "from ipycanvas import Canvas, hold_canvas"
   ]
  },
  {
   "cell_type": "markdown",
   "id": "cc51cc03-adc9-46a5-9215-69994e651545",
   "metadata": {},
   "source": [
    "#### Create the figure and the attractor selector"
   ]
  },
  {
   "cell_type": "code",
   "execution_count": 108,
   "id": "50a5a0e0-3038-49d0-8895-49f0541dda3a",
   "metadata": {
    "tags": []
   },
   "outputs": [],
   "source": [
    "figure = plt.figure(\n",
    "    title = 'Clifford Attractor aka Fractral Dream',\n",
    "    layout = {'width': '100%', 'height': '100%'},\n",
    "    animation_duration=1000,\n",
    "    fig_margin={\n",
    "        'top': 40,\n",
    "        'bottom': 0,\n",
    "        'left': 0,\n",
    "        'right': 0\n",
    "    }\n",
    ")\n",
    "\n",
    "attractor_selector = Dropdown(\n",
    "    options = ['Clifford'], \n",
    "    index = 0, \n",
    "    value = 'Clifford',\n",
    "    lavel = 'Select Attractor Model'\n",
    ")"
   ]
  },
  {
   "cell_type": "markdown",
   "id": "7c782758-7674-4cc4-8bc8-c76481ace428",
   "metadata": {},
   "source": [
    "## Clifford Attractor"
   ]
  },
  {
   "cell_type": "markdown",
   "id": "7ef0d356-b402-42d7-ad04-04591c3d4a42",
   "metadata": {
    "tags": []
   },
   "source": [
    "#### Widgets"
   ]
  },
  {
   "cell_type": "code",
   "execution_count": 106,
   "id": "b0fc4e57-2505-4d46-aab6-5a0578d10d3a",
   "metadata": {
    "jupyter": {
     "source_hidden": true
    },
    "tags": []
   },
   "outputs": [],
   "source": [
    "clifford_a = FloatSlider(value=1.9, min=.1, max=2.0, step=.1, layout={'width': '99%'})\n",
    "clifford_b = FloatSlider(value=1.9, min=.1, max=2.0, step=.1, layout={'width': '99%'})\n",
    "clifford_c = FloatSlider(value=1.9, min=.1, max=2.0, step=.1, layout={'width': '99%'})\n",
    "clifford_d = FloatSlider(value=.8, min=0, max=2.0, step=.1, layout={'width': '99%'})\n",
    "clifford_wids = VBox([\n",
    "    clifford_a,\n",
    "    clifford_b,\n",
    "    clifford_c,\n",
    "    clifford_d,\n",
    "])"
   ]
  },
  {
   "cell_type": "markdown",
   "id": "ed194f09-4815-42c3-ac66-ed31f929875d",
   "metadata": {},
   "source": [
    "### Updading clifford figure"
   ]
  },
  {
   "cell_type": "code",
   "execution_count": 109,
   "id": "2507871c-2165-4f8d-a59e-896b5c3fb7b9",
   "metadata": {},
   "outputs": [],
   "source": [
    "def clifford_trajectory(a, b, c, d, n=25000):\n",
    "    xs, ys = np.zeros(n), np.zeros(n)\n",
    "    for i in np.arange(n-1):\n",
    "        xs[i+1] = np.sin(a * ys[i]) + c * np.cos(a * xs[i])\n",
    "        ys[i+1] = np.sin(b * xs[i]) + d * np.cos(b * ys[i])\n",
    "    return xs, ys\n",
    "\n",
    "xs, ys = clifford_trajectory(1.9, 1.9, 1.9, 0.8)\n",
    "plt.scatter(xs, ys, stroke=None, default_size=1, colors=['white'], opacities=[.2])\n",
    "figure.axes[0].grid_lines = 'none'\n",
    "figure.axes[1].grid_lines = 'none'\n",
    "\n",
    "\n",
    "def clifford_plot(a=1.9, b=1.9, c=1.9, d=0.8):\n",
    "    xs, ys = clifford_trajectory(a, b, c, d)\n",
    "    figure.marks[0].x = xs\n",
    "    figure.marks[0].y = ys\n",
    "\n",
    "update_clifford = interactive_output(clifford_plot, {\n",
    "    'a': clifford_a,\n",
    "    'b': clifford_b,\n",
    "    'c': clifford_c,\n",
    "    'd': clifford_d,\n",
    "}),"
   ]
  },
  {
   "cell_type": "markdown",
   "id": "a8676103-d753-4693-9ead-984c49a87581",
   "metadata": {
    "tags": []
   },
   "source": [
    "## UI"
   ]
  },
  {
   "cell_type": "code",
   "execution_count": 110,
   "id": "24faedff-0077-4656-8eaf-46bd124a3ac4",
   "metadata": {
    "scrolled": true,
    "tags": []
   },
   "outputs": [
    {
     "data": {
      "application/vnd.jupyter.widget-view+json": {
       "model_id": "f6df7249d9764bfaab056c6df21638e8",
       "version_major": 2,
       "version_minor": 0
      },
      "text/plain": [
       "AppLayout(children=(VBox(children=(HTMLMath(value='<Br>'), Dropdown(options=('Clifford',), value='Clifford'), …"
      ]
     },
     "metadata": {},
     "output_type": "display_data"
    }
   ],
   "source": [
    "panel = VBox([\n",
    "    HTMLMath(\"<Br>\"),\n",
    "    attractor_selector,\n",
    "    HTMLMath(\"<Br><Br>\"),\n",
    "    clifford_wids\n",
    "])\n",
    "\n",
    "ui = AppLayout(\n",
    "    header=None,\n",
    "    left_sidebar=panel,\n",
    "    center=figure,\n",
    "    right_sidebar = None,\n",
    "    footer=None,\n",
    "    layout={\n",
    "        'width': '100%',\n",
    "        'height': '100%',\n",
    "    }\n",
    ")\n",
    "ui"
   ]
  }
 ],
 "metadata": {
  "kernelspec": {
   "display_name": "Python 3 (ipykernel)",
   "language": "python",
   "name": "python3"
  },
  "language_info": {
   "codemirror_mode": {
    "name": "ipython",
    "version": 3
   },
   "file_extension": ".py",
   "mimetype": "text/x-python",
   "name": "python",
   "nbconvert_exporter": "python",
   "pygments_lexer": "ipython3",
   "version": "3.9.14"
  }
 },
 "nbformat": 4,
 "nbformat_minor": 5
}
